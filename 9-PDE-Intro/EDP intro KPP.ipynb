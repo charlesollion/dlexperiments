{
 "cells": [
  {
   "cell_type": "code",
   "execution_count": null,
   "metadata": {},
   "outputs": [],
   "source": [
    "%load_ext autoreload\n",
    "%autoreload 2"
   ]
  },
  {
   "cell_type": "markdown",
   "metadata": {},
   "source": [
    "## Modèle KPP\n",
    "\n",
    "Tools: jax (to install `pip install jax jaxlib flax`)\n",
    "If you are unfamiliar with Jax random generation, check [this](https://jax.readthedocs.io/en/latest/jax.random.html)\n",
    "\n",
    "\n",
    "$$\n",
    "\\begin{equation} \\label{eq:KPP_homog}\n",
    "  \\partial_t u(t,x) = D \\Delta u + r u (1 - u), \\ t>0, \\ x\\in \\Omega \\subset \\mathbb{R}^2,\n",
    "\\end{equation}\n",
    "$$\n",
    "\n",
    "\n",
    "avec la condition initiale $u(0,\\cdot)=u_0(\\cdot)$ une gausienne dans $\\Omega$ très \"peakée\", et la condition au bord $u(t,\\cdot )=0$ sur $\\partial\\Omega$ pour tout $t>0$. On pourra prendre $\\Omega=(0,1)\\times(0,1)$.\n"
   ]
  },
  {
   "cell_type": "code",
   "execution_count": null,
   "metadata": {},
   "outputs": [],
   "source": [
    "import jax.numpy as np\n",
    "import jax\n",
    "from jax import grad, jit, vmap, jacfwd, jacrev\n",
    "from jax import random\n",
    "from models.nets import MLP\n",
    "from functools import partial\n",
    "\n",
    "key = random.PRNGKey(0)\n",
    "key, subkey = random.split(key)\n",
    "\n",
    "# A test point\n",
    "x_test = np.ones(2) * 0.25\n",
    "t_test = np.ones(1) * 0.25\n",
    "\n",
    "model = MLP(features=[20,20,20,20,20,20,20, 1])\n",
    "init_params = model.init(subkey, t_test, x_test)\n",
    "\n",
    "@jit\n",
    "def u(t, x, params_):\n",
    "    return model.apply(params_, t, x)[0]\n",
    "\n",
    "print('initialized parameter shapes:\\n', jax.tree_map(np.shape, init_params))\n",
    "print(f'\\nu(x, t): {u(t_test, x_test, init_params):.3f}')"
   ]
  },
  {
   "cell_type": "code",
   "execution_count": null,
   "metadata": {},
   "outputs": [],
   "source": [
    "D = 1.0\n",
    "r = 1.0\n",
    "\n",
    "def hessian(f, index_derivation=0):\n",
    "    return jacfwd(jacrev(f,index_derivation),index_derivation)\n",
    "\n",
    "@jit\n",
    "def f(t_, x_, params_):\n",
    "    u_out = u(t_, x_, params_)\n",
    "    lap_u = np.trace(np.squeeze(hessian(u,1)(t_, x_, params_)))\n",
    "    u_t = grad(u,0)(t_, x_, params_)\n",
    "    f_out = u_t - D*lap_u - r*u_out*(1-u_out)\n",
    "    return f_out"
   ]
  },
  {
   "cell_type": "code",
   "execution_count": null,
   "metadata": {},
   "outputs": [],
   "source": [
    "u(t_test, x_test, init_params), f(t_test, x_test, init_params)"
   ]
  },
  {
   "cell_type": "code",
   "execution_count": null,
   "metadata": {},
   "outputs": [],
   "source": [
    "def u0(x):\n",
    "    return 10 *np.exp(-vmap(np.dot)(x-0.5,x-0.5)*100)"
   ]
  },
  {
   "cell_type": "code",
   "execution_count": null,
   "metadata": {},
   "outputs": [],
   "source": [
    "def loss(batches, params_):\n",
    "    t_, x_, u_, tf_, xf_ = batches\n",
    "    \n",
    "    # Physics with mse_f\n",
    "    mse_f = lambda t,x: partial(f, params_=params_)(t,x)**2\n",
    "    v_mse_f = vmap(mse_f, (0,0), 0)\n",
    "    loss_f = np.mean(v_mse_f(tf_, xf_))\n",
    "    \n",
    "    # Borders with mse_u\n",
    "    def mse_u(t_, x_, u_, params_):\n",
    "        return np.mean((u_ - u(t_, x_, params_))**2)\n",
    "    v_mse_u = vmap(partial(mse_u, params_=params_), (0,0,0), 0)\n",
    "    loss_u = np.mean(v_mse_u(t_, x_, u_))\n",
    "    \n",
    "    # total loss, then aux loss values. Only the first output is differentiated (because of has_aux=True below)\n",
    "    return (0*loss_f+loss_u, (loss_u, loss_f))\n",
    "\n",
    "losses_and_grad = jit(jax.value_and_grad(loss, 1, has_aux=True))"
   ]
  },
  {
   "cell_type": "code",
   "execution_count": null,
   "metadata": {},
   "outputs": [],
   "source": [
    "# Testing the loss function\n",
    "losses, grads = losses_and_grad((np.zeros((10, 1)), \n",
    "                                 np.zeros((10, 2)), \n",
    "                                 np.ones((10, 1))*0.4, \n",
    "                                 np.ones((10, 1))*0.25,\n",
    "                                 np.ones((10, 2))*0.25),\n",
    "                                 init_params)\n",
    "\n",
    "\n",
    "a, (b,c) = losses\n",
    "print(f\"total loss: {a:.3f}, mse_u: {b:.3f}, mse_f: {c:.3f}\")"
   ]
  },
  {
   "cell_type": "code",
   "execution_count": null,
   "metadata": {},
   "outputs": [],
   "source": [
    "tb, xb = dsb.inside_batch()\n",
    "tb.shape, xb.shape"
   ]
  },
  {
   "cell_type": "code",
   "execution_count": null,
   "metadata": {},
   "outputs": [],
   "source": [
    "tb,xb,ub = dsb.border_batch()"
   ]
  },
  {
   "cell_type": "code",
   "execution_count": null,
   "metadata": {},
   "outputs": [],
   "source": [
    "tb.shape, xb.shape, ub.shape"
   ]
  },
  {
   "cell_type": "code",
   "execution_count": null,
   "metadata": {},
   "outputs": [],
   "source": [
    "a1 = (random.uniform(subkey4, (5, 1))>0.5)*1.0\n",
    "a2 = random.uniform(subkey5, (5, 1))"
   ]
  },
  {
   "cell_type": "code",
   "execution_count": null,
   "metadata": {},
   "outputs": [],
   "source": [
    "np.concatenate((a1, a2), axis=-1)"
   ]
  },
  {
   "cell_type": "code",
   "execution_count": null,
   "metadata": {},
   "outputs": [],
   "source": [
    "from data import datasets\n",
    "\n",
    "key, subkey = random.split(key, 2)\n",
    "ds = datasets.KPPDataset(subkey, u0, batch_size=32, N_u=200)"
   ]
  },
  {
   "cell_type": "code",
   "execution_count": null,
   "metadata": {},
   "outputs": [],
   "source": [
    "tb, xb = ds.inside_batch()\n",
    "tb.shape, xb.shape"
   ]
  },
  {
   "cell_type": "code",
   "execution_count": null,
   "metadata": {},
   "outputs": [],
   "source": [
    "tb, xb, ub = ds.border_batch()\n",
    "tb.shape, xb.shape, ub.shape"
   ]
  },
  {
   "cell_type": "markdown",
   "metadata": {},
   "source": [
    "#### Data and learning\n",
    "\n",
    "We build $N_u = 100$ boundary data points as mentionned in the paper. Half of them for $t=0$, the other half for $x= \\pm 1$. Wrap it into a dataset class"
   ]
  },
  {
   "cell_type": "code",
   "execution_count": null,
   "metadata": {},
   "outputs": [],
   "source": [
    "from data import datasets\n",
    "\n",
    "key, subkey = random.split(key, 2)\n",
    "ds = datasets.KPPDataset(subkey, u0, batch_size=64, N_u=500)"
   ]
  },
  {
   "cell_type": "code",
   "execution_count": null,
   "metadata": {},
   "outputs": [],
   "source": [
    "_,xb,ub = ds.border_batch()"
   ]
  },
  {
   "cell_type": "code",
   "execution_count": null,
   "metadata": {},
   "outputs": [],
   "source": [
    "# Optimizer\n",
    "import optax\n",
    "key, subkey = random.split(key, 2)\n",
    "params = model.init(subkey, t_test, x_test)\n",
    "tx = optax.adam(learning_rate=0.001)\n",
    "opt_state = tx.init(params)"
   ]
  },
  {
   "cell_type": "code",
   "execution_count": null,
   "metadata": {},
   "outputs": [],
   "source": [
    "# Main train loop\n",
    "steps = 5000\n",
    "for i in range(steps):\n",
    "    tb, xb, ub = ds.border_batch()\n",
    "    tb_uni, xb_uni = ds.inside_batch()\n",
    "\n",
    "    losses, grads = losses_and_grad((tb, xb, ub, tb_uni, xb_uni), \n",
    "                                    params)\n",
    "    updates, opt_state = tx.update(grads, opt_state)\n",
    "    params = optax.apply_updates(params, updates)\n",
    "    total_loss_val, (mse_u_val, mse_f_val) = losses\n",
    "    \n",
    "    if i % 100 == 99:\n",
    "        print(f'Loss at step {i+1}: {total_loss_val:.4f} / mse_u: {mse_u_val:.4f} / mse_f: {mse_f_val:.4f}') "
   ]
  },
  {
   "cell_type": "markdown",
   "metadata": {},
   "source": [
    "#### Display\n"
   ]
  },
  {
   "cell_type": "code",
   "execution_count": null,
   "metadata": {},
   "outputs": [],
   "source": [
    "batched_u = vmap(partial(u, params_=params), (0, 0), 0)\n",
    "batched_u0 = lambda t,x: u0(x)"
   ]
  },
  {
   "cell_type": "code",
   "execution_count": null,
   "metadata": {},
   "outputs": [],
   "source": [
    "#def u0(x):\n",
    "#    return 10 *np.exp(-vmap(np.dot)(x-0.5,x-0.5)*100)"
   ]
  },
  {
   "cell_type": "code",
   "execution_count": null,
   "metadata": {},
   "outputs": [],
   "source": [
    "from data.display import display_KPP_at_times\n",
    "display_KPP_at_times(batched_u0, 30, times=[0.0,])"
   ]
  },
  {
   "cell_type": "code",
   "execution_count": null,
   "metadata": {},
   "outputs": [],
   "source": [
    "display_KPP_at_times(batched_u, 30, times=[0.0,0.25,0.5,0.75])"
   ]
  },
  {
   "cell_type": "code",
   "execution_count": null,
   "metadata": {},
   "outputs": [],
   "source": []
  },
  {
   "cell_type": "code",
   "execution_count": null,
   "metadata": {},
   "outputs": [],
   "source": []
  }
 ],
 "metadata": {
  "kernelspec": {
   "display_name": "Python 3",
   "language": "python",
   "name": "python3"
  },
  "language_info": {
   "codemirror_mode": {
    "name": "ipython",
    "version": 3
   },
   "file_extension": ".py",
   "mimetype": "text/x-python",
   "name": "python",
   "nbconvert_exporter": "python",
   "pygments_lexer": "ipython3",
   "version": "3.7.6"
  },
  "toc": {
   "base_numbering": 1,
   "nav_menu": {},
   "number_sections": true,
   "sideBar": true,
   "skip_h1_title": false,
   "title_cell": "Table of Contents",
   "title_sidebar": "Contents",
   "toc_cell": false,
   "toc_position": {},
   "toc_section_display": true,
   "toc_window_display": false
  }
 },
 "nbformat": 4,
 "nbformat_minor": 4
}
